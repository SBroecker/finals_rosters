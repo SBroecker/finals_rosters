{
 "cells": [
  {
   "cell_type": "code",
   "execution_count": 2,
   "metadata": {},
   "outputs": [],
   "source": [
    "import requests\n",
    "from bs4 import BeautifulSoup\n",
    "import time\n",
    "import json\n",
    "import polars as pl\n",
    "from tqdm import tqdm\n",
    "import polars.selectors as cs"
   ]
  },
  {
   "cell_type": "code",
   "execution_count": null,
   "metadata": {},
   "outputs": [],
   "source": [
    "# Control whether to scrape for data or read from file\n",
    "SCRAPE_FINALS_YEARS= False\n",
    "SCRAPE_TEAM_ROSTERS = False\n",
    "SCRAPE_PLAYER_TEAMS = False"
   ]
  },
  {
   "cell_type": "code",
   "execution_count": 3,
   "metadata": {},
   "outputs": [],
   "source": [
    "\"\"\"\n",
    "Function to scrape a webpage and return a BeautifulSoup object.\n",
    ":param url: The URL of the webpage to scrape.\n",
    ":param session: Optional requests.Session object for persistent connections.\n",
    ":return: BeautifulSoup object containing the parsed HTML of the page.\n",
    "\"\"\"\n",
    "def scrape(url, session=None):\n",
    "    # Request the page\n",
    "    response = requests.get(url) if session is None else session.get(url)\n",
    "    # Parse with BeautifulSoup\n",
    "    soup = BeautifulSoup(response.content, 'html.parser')\n",
    "    time.sleep(2)  # Sleep to avoid rate limiting\n",
    "    return soup"
   ]
  },
  {
   "cell_type": "code",
   "execution_count": 4,
   "metadata": {},
   "outputs": [],
   "source": [
    "\"\"\"\n",
    "Function to get the list of teams a player has played for from a given URL.\n",
    ":param url: The URL of the player's stats page.\n",
    ":return: A list of unique team names the player has played for.\n",
    "\"\"\"\n",
    "def get_player_teams(url):\n",
    "    \n",
    "    # Retry the request until it succeeds\n",
    "    retry_count = 0\n",
    "    while retry_count < 5:\n",
    "        try:\n",
    "            # Request the page and parse it with BeautifulSoup\n",
    "            soup = scrape(url)\n",
    "            \n",
    "            # Find the table with player stats\n",
    "            table = soup.find('table', {'id': 'per_game_stats'})\n",
    "            time.sleep(3)  # Sleep to avoid rate limiting\n",
    "            # If no exception occurs, break the loop\n",
    "            break\n",
    "        except Exception as e:\n",
    "            print(f\"Error occurred: {e}. Retrying...\")\n",
    "            # If an exception occurs, retry after a delay\n",
    "            retry_count += 1\n",
    "            time.sleep(60)\n",
    "    # If the table is not found, raise an exception\n",
    "    if table is None:\n",
    "        raise Exception(\"Table not found on the page.\")\n",
    "    \n",
    "    teams = []\n",
    "    # Iterate through the rows of the table in tbody\n",
    "    for row in table.tbody.find_all('tr'):\n",
    "        # Find the team name in the row\n",
    "        team = row.find('td', {'data-stat': 'team_name_abbr'})\n",
    "        # If the team name is found, add it to the list\n",
    "        if team:\n",
    "            teams.append(team.text.strip())\n",
    "    \n",
    "    # Return a list of unique team names\n",
    "    return list(set(teams))\n",
    "    "
   ]
  },
  {
   "cell_type": "code",
   "execution_count": 5,
   "metadata": {},
   "outputs": [],
   "source": [
    "\"\"\"\n",
    "Function to get the teams that played in the finals from a given URL.\n",
    ":param url: The URL of the playoffs page.\n",
    ":param session: Optional requests.Session object for persistent connections.\n",
    ":return: A tuple containing the URLs of the two teams that played in the finals.\n",
    "\"\"\"\n",
    "def get_finals_teams(url, session):\n",
    "    # Request the page and parse it with BeautifulSoup\n",
    "    soup = scrape(url, session)\n",
    "    # Find the playoff table\n",
    "    playoff_table = soup.find('table', {'id': 'all_playoffs'}).tbody\n",
    "    # Go through the rows to find the two teams in the finals\n",
    "    for row in playoff_table.find_all('tr'):\n",
    "        # Check if the row contains 'Finals'\n",
    "        for cell in row.find_all('td'):\n",
    "            if cell.text.strip() == 'Finals':\n",
    "                # If found, extract the team names\n",
    "                # The team names are in the second column of the row\n",
    "                teams = row.find_all('td')[1].find_all('a')\n",
    "                team1 = teams[0]['href']\n",
    "                team2 = teams[1]['href']\n",
    "                return team1, team2"
   ]
  },
  {
   "cell_type": "code",
   "execution_count": 16,
   "metadata": {},
   "outputs": [],
   "source": [
    "\"\"\"\n",
    "Function to get the teams that played in the finals for each year.\n",
    ":return: A dictionary mapping each year to a tuple of team URLs that played in the finals.\n",
    "\"\"\"\n",
    "def get_playoff_series():\n",
    "    # Start a new session\n",
    "    session = requests.Session()\n",
    "    # Request the page and parse it with BeautifulSoup\n",
    "    all_playoffs_url = \"https://www.basketball-reference.com/playoffs/\"\n",
    "    soup = scrape(all_playoffs_url, session)\n",
    "    # Find the table with playoff series\n",
    "    table = soup.find('table', {'id': 'champions_index'})\n",
    "    \n",
    "    yearly_teams = {}\n",
    "    # Iterate through the rows of the table in tbody\n",
    "    for row in table.tbody.find_all('tr'):\n",
    "        # Find the link to the playoff series in data-stat=\"year_id\"\n",
    "        year = row.find('th', {'data-stat': 'year_id'})\n",
    "        if year:\n",
    "            # Find the league in data-stat=\"lg_id\"\n",
    "            league = row.find('td', {'data-stat': 'lg_id'}).text.strip()\n",
    "            # Only consider NBA finals\n",
    "            if league != 'NBA':\n",
    "                print(f\"Skipping league: {league}\")\n",
    "                continue\n",
    "            # Get the year text\n",
    "            year_text = year.text.strip()\n",
    "            # Find the link to the playoff series\n",
    "            link = row.find('a')\n",
    "            if link:\n",
    "                year_url = \"https://www.basketball-reference.com\" + link['href']\n",
    "                teams = get_finals_teams(year_url, session)\n",
    "                yearly_teams[year_text] = teams\n",
    "    return yearly_teams"
   ]
  },
  {
   "cell_type": "markdown",
   "metadata": {},
   "source": [
    "## Find teams per year\n",
    "\n",
    "`yearly_teams` will be a list of the all of the years of Finals matchups, where each year has a link for the two teams playing"
   ]
  },
  {
   "cell_type": "code",
   "execution_count": 17,
   "metadata": {},
   "outputs": [
    {
     "name": "stdout",
     "output_type": "stream",
     "text": [
      "Skipping league: ABA\n",
      "Skipping league: ABA\n",
      "Skipping league: ABA\n",
      "Skipping league: ABA\n",
      "Skipping league: ABA\n",
      "Skipping league: ABA\n",
      "Skipping league: ABA\n",
      "Skipping league: ABA\n",
      "Skipping league: ABA\n",
      "Skipping league: BAA\n",
      "Skipping league: BAA\n",
      "Skipping league: BAA\n"
     ]
    }
   ],
   "source": [
    "if SCRAPE_FINALS_YEARS:\n",
    "    # Get the yearly finals teams\n",
    "    yearly_teams = get_playoff_series()\n",
    "\n",
    "    # Save dictionary to a file\n",
    "    with open('yearly_finals_teams.json', 'w') as f:\n",
    "        json.dump(yearly_teams, f, indent=4)"
   ]
  },
  {
   "cell_type": "code",
   "execution_count": 8,
   "metadata": {},
   "outputs": [],
   "source": [
    "if not SCRAPE_FINALS_YEARS:\n",
    "    # Load the saved dictionary from the file\n",
    "    with open('yearly_finals_teams.json', 'r') as f:\n",
    "        yearly_teams = json.load(f)"
   ]
  },
  {
   "cell_type": "code",
   "execution_count": 19,
   "metadata": {},
   "outputs": [],
   "source": [
    "\"\"\"\n",
    "Function to get the roster of a team from a given URL.\n",
    ":param url: The URL of the team's roster page.\n",
    ":return: A list of dictionaries containing player names and their URLs.\n",
    "\"\"\"\n",
    "def get_roster(url):\n",
    "    # Request the page and parse it with BeautifulSoup\n",
    "    soup = scrape(\"https://www.basketball-reference.com\" + url)\n",
    "    \n",
    "    # Initialize an empty list to hold the roster\n",
    "    roster = []\n",
    "    \n",
    "    # Find the table with the roster\n",
    "    roster_table = soup.find('table', {'id': 'roster'}).tbody\n",
    "    \n",
    "    # Iterate through the rows of the table\n",
    "    for row in roster_table.find_all('tr'):\n",
    "        # Find the player name in the row\n",
    "        player = row.find('td', {'data-stat': 'player'})\n",
    "        if player:\n",
    "            player_url = player.find('a')['href']  # This will give the player's page URL\n",
    "            player_name = player.text.strip() # This will give the player's name\n",
    "            roster.append({'name': player_name, 'player_url': player_url, 'team_url': url})\n",
    "    \n",
    "    return roster"
   ]
  },
  {
   "cell_type": "markdown",
   "metadata": {},
   "source": [
    "## Find rosters for every finals team\n",
    "\n",
    "`team_rosters` will be a list of every player that was on a finals team for every year"
   ]
  },
  {
   "cell_type": "code",
   "execution_count": 20,
   "metadata": {},
   "outputs": [],
   "source": [
    "if SCRAPE_TEAM_ROSTERS:\n",
    "    team_rosters = []\n",
    "\n",
    "    for year, teams in yearly_teams.items():\n",
    "        for team in teams:\n",
    "            roster = get_roster(team)\n",
    "            team_rosters.extend(roster)\n",
    "    # Save the rosters to a file\n",
    "    with open('team_rosters.json', 'w') as f:\n",
    "        json.dump(team_rosters, f, indent=4)"
   ]
  },
  {
   "cell_type": "code",
   "execution_count": 9,
   "metadata": {},
   "outputs": [],
   "source": [
    "if not SCRAPE_TEAM_ROSTERS:\n",
    "    # Load the saved rosters from the file\n",
    "    with open('team_rosters.json', 'r') as f:\n",
    "        team_rosters = json.load(f)"
   ]
  },
  {
   "cell_type": "code",
   "execution_count": 21,
   "metadata": {},
   "outputs": [
    {
     "data": {
      "text/html": [
       "<div><style>\n",
       ".dataframe > thead > tr,\n",
       ".dataframe > tbody > tr {\n",
       "  text-align: right;\n",
       "  white-space: pre-wrap;\n",
       "}\n",
       "</style>\n",
       "<small>shape: (2_255, 3)</small><table border=\"1\" class=\"dataframe\"><thead><tr><th>name</th><th>player_url</th><th>team_url</th></tr><tr><td>str</td><td>str</td><td>str</td></tr></thead><tbody><tr><td>&quot;Shai Gilgeous-Alexander&quot;</td><td>&quot;/players/g/gilgesh01.html&quot;</td><td>&quot;/teams/OKC/2025.html&quot;</td></tr><tr><td>&quot;Aaron Wiggins&quot;</td><td>&quot;/players/w/wiggiaa01.html&quot;</td><td>&quot;/teams/OKC/2025.html&quot;</td></tr><tr><td>&quot;Isaiah Joe&quot;</td><td>&quot;/players/j/joeis01.html&quot;</td><td>&quot;/teams/OKC/2025.html&quot;</td></tr><tr><td>&quot;Luguentz Dort&quot;</td><td>&quot;/players/d/dortlu01.html&quot;</td><td>&quot;/teams/OKC/2025.html&quot;</td></tr><tr><td>&quot;Jalen Williams&quot;</td><td>&quot;/players/w/willija06.html&quot;</td><td>&quot;/teams/OKC/2025.html&quot;</td></tr><tr><td>&hellip;</td><td>&hellip;</td><td>&hellip;</td></tr><tr><td>&quot;Johnny Macknowski&quot;</td><td>&quot;/players/m/macknjo01.html&quot;</td><td>&quot;/teams/SYR/1950.html&quot;</td></tr><tr><td>&quot;Ed Peterson&quot;</td><td>&quot;/players/p/petered01.html&quot;</td><td>&quot;/teams/SYR/1950.html&quot;</td></tr><tr><td>&quot;George Ratkovicz&quot;</td><td>&quot;/players/r/ratkoge01.html&quot;</td><td>&quot;/teams/SYR/1950.html&quot;</td></tr><tr><td>&quot;Dolph Schayes&quot;</td><td>&quot;/players/s/schaydo01.html&quot;</td><td>&quot;/teams/SYR/1950.html&quot;</td></tr><tr><td>&quot;Paul Seymour&quot;</td><td>&quot;/players/s/seymopa01.html&quot;</td><td>&quot;/teams/SYR/1950.html&quot;</td></tr></tbody></table></div>"
      ],
      "text/plain": [
       "shape: (2_255, 3)\n",
       "┌─────────────────────────┬───────────────────────────┬──────────────────────┐\n",
       "│ name                    ┆ player_url                ┆ team_url             │\n",
       "│ ---                     ┆ ---                       ┆ ---                  │\n",
       "│ str                     ┆ str                       ┆ str                  │\n",
       "╞═════════════════════════╪═══════════════════════════╪══════════════════════╡\n",
       "│ Shai Gilgeous-Alexander ┆ /players/g/gilgesh01.html ┆ /teams/OKC/2025.html │\n",
       "│ Aaron Wiggins           ┆ /players/w/wiggiaa01.html ┆ /teams/OKC/2025.html │\n",
       "│ Isaiah Joe              ┆ /players/j/joeis01.html   ┆ /teams/OKC/2025.html │\n",
       "│ Luguentz Dort           ┆ /players/d/dortlu01.html  ┆ /teams/OKC/2025.html │\n",
       "│ Jalen Williams          ┆ /players/w/willija06.html ┆ /teams/OKC/2025.html │\n",
       "│ …                       ┆ …                         ┆ …                    │\n",
       "│ Johnny Macknowski       ┆ /players/m/macknjo01.html ┆ /teams/SYR/1950.html │\n",
       "│ Ed Peterson             ┆ /players/p/petered01.html ┆ /teams/SYR/1950.html │\n",
       "│ George Ratkovicz        ┆ /players/r/ratkoge01.html ┆ /teams/SYR/1950.html │\n",
       "│ Dolph Schayes           ┆ /players/s/schaydo01.html ┆ /teams/SYR/1950.html │\n",
       "│ Paul Seymour            ┆ /players/s/seymopa01.html ┆ /teams/SYR/1950.html │\n",
       "└─────────────────────────┴───────────────────────────┴──────────────────────┘"
      ]
     },
     "execution_count": 21,
     "metadata": {},
     "output_type": "execute_result"
    }
   ],
   "source": [
    "rosters_df = pl.DataFrame(team_rosters)\n",
    "rosters_df"
   ]
  },
  {
   "cell_type": "code",
   "execution_count": 22,
   "metadata": {},
   "outputs": [
    {
     "data": {
      "text/plain": [
       "(152, 152)"
      ]
     },
     "execution_count": 22,
     "metadata": {},
     "output_type": "execute_result"
    }
   ],
   "source": [
    "# Double check that the number of unique teams matches the expected count\n",
    "len(rosters_df.group_by(\"team_url\").len()), len(yearly_teams)*2"
   ]
  },
  {
   "cell_type": "markdown",
   "metadata": {},
   "source": [
    "## Find the teams that every finals player played for\n",
    "\n",
    "`all_player_teams` will be a list of every player from `team_rosters` and all of the teams that they've played for in their career."
   ]
  },
  {
   "cell_type": "code",
   "execution_count": 23,
   "metadata": {},
   "outputs": [],
   "source": [
    "all_player_teams = []"
   ]
  },
  {
   "cell_type": "code",
   "execution_count": 26,
   "metadata": {},
   "outputs": [
    {
     "name": "stderr",
     "output_type": "stream",
     "text": [
      "100%|██████████| 1274/1274 [00:52<00:00, 24.14it/s]\n"
     ]
    }
   ],
   "source": [
    "# Get the unique players so we don't scrape the same player multiple times\n",
    "unique_players = list(rosters_df[\"player_url\"].unique())\n",
    "\n",
    "if SCRAPE_PLAYER_TEAMS:\n",
    "    # Check if we have already scraped some players\n",
    "    # Useful if we have to restart the script\n",
    "    if all_player_teams != []:\n",
    "        checked_players = [player['player_url'] for player in all_player_teams]\n",
    "    else:\n",
    "        checked_players = []\n",
    "\n",
    "    # Iterate through the unique players and get their teams\n",
    "    for player in tqdm(unique_players):\n",
    "        player_url = \"https://www.basketball-reference.com\" + player\n",
    "        # Only scrape players that haven't been checked yet\n",
    "        if player not in checked_players:\n",
    "            try:\n",
    "                player_teams = get_player_teams(player_url)\n",
    "            except Exception as e:\n",
    "                # Skip players that cause errors\n",
    "                player_teams = []\n",
    "            all_player_teams.append({'player_url': player, 'teams': player_teams})\n",
    "\n",
    "    # Save the player teams to a file\n",
    "    with open('player_teams.json', 'w') as f:\n",
    "        json.dump(all_player_teams, f, indent=4)\n"
   ]
  },
  {
   "cell_type": "code",
   "execution_count": null,
   "metadata": {},
   "outputs": [],
   "source": [
    "if not SCRAPE_PLAYER_TEAMS:\n",
    "    # Read the player teams from the file\n",
    "    with open('player_teams.json', 'r') as f:\n",
    "        all_player_teams = json.load(f)"
   ]
  },
  {
   "cell_type": "code",
   "execution_count": 27,
   "metadata": {},
   "outputs": [
    {
     "data": {
      "text/plain": [
       "(1274, 1274)"
      ]
     },
     "execution_count": 27,
     "metadata": {},
     "output_type": "execute_result"
    }
   ],
   "source": [
    "# Make sure we got every player\n",
    "len(all_player_teams), len(unique_players)"
   ]
  },
  {
   "cell_type": "markdown",
   "metadata": {},
   "source": [
    "## Convert things to DataFrames\n",
    "\n",
    "Convert data to DataFrames and clean them for joining."
   ]
  },
  {
   "cell_type": "code",
   "execution_count": 29,
   "metadata": {},
   "outputs": [
    {
     "data": {
      "text/html": [
       "<div><style>\n",
       ".dataframe > thead > tr,\n",
       ".dataframe > tbody > tr {\n",
       "  text-align: right;\n",
       "  white-space: pre-wrap;\n",
       "}\n",
       "</style>\n",
       "<small>shape: (1_274, 2)</small><table border=\"1\" class=\"dataframe\"><thead><tr><th>player_url</th><th>teams</th></tr><tr><td>str</td><td>list[str]</td></tr></thead><tbody><tr><td>&quot;/players/o/odomla01.html&quot;</td><td>[&quot;LAC&quot;, &quot;LAL&quot;, … &quot;MIA&quot;]</td></tr><tr><td>&quot;/players/p/paddige01.html&quot;</td><td>[&quot;WSB&quot;, &quot;NYK&quot;, … &quot;CLE&quot;]</td></tr><tr><td>&quot;/players/e/eganjo01.html&quot;</td><td>[&quot;DET&quot;, &quot;BAL&quot;, … &quot;CLE&quot;]</td></tr><tr><td>&quot;/players/p/parisro01.html&quot;</td><td>[&quot;CHI&quot;, &quot;BOS&quot;, … &quot;CHH&quot;]</td></tr><tr><td>&quot;/players/h/horanjo01.html&quot;</td><td>[&quot;2TM&quot;, &quot;FTW&quot;, &quot;MNL&quot;]</td></tr><tr><td>&hellip;</td><td>&hellip;</td></tr><tr><td>&quot;/players/i/iguodan01.html&quot;</td><td>[&quot;MIA&quot;, &quot;GSW&quot;, … &quot;DEN&quot;]</td></tr><tr><td>&quot;/players/h/hetzefr01.html&quot;</td><td>[&quot;CIN&quot;, &quot;2TM&quot;, … &quot;LAL&quot;]</td></tr><tr><td>&quot;/players/c/claxtsp01.html&quot;</td><td>[&quot;NOH&quot;, &quot;Did not play - injury&quot;, … &quot;GSW&quot;]</td></tr><tr><td>&quot;/players/t/terryja01.html&quot;</td><td>[&quot;BOS&quot;, &quot;ATL&quot;, … &quot;DAL&quot;]</td></tr><tr><td>&quot;/players/l/lagarto01.html&quot;</td><td>[&quot;DAL&quot;, &quot;DEN&quot;, … &quot;NJN&quot;]</td></tr></tbody></table></div>"
      ],
      "text/plain": [
       "shape: (1_274, 2)\n",
       "┌───────────────────────────┬─────────────────────────────────┐\n",
       "│ player_url                ┆ teams                           │\n",
       "│ ---                       ┆ ---                             │\n",
       "│ str                       ┆ list[str]                       │\n",
       "╞═══════════════════════════╪═════════════════════════════════╡\n",
       "│ /players/o/odomla01.html  ┆ [\"LAC\", \"LAL\", … \"MIA\"]         │\n",
       "│ /players/p/paddige01.html ┆ [\"WSB\", \"NYK\", … \"CLE\"]         │\n",
       "│ /players/e/eganjo01.html  ┆ [\"DET\", \"BAL\", … \"CLE\"]         │\n",
       "│ /players/p/parisro01.html ┆ [\"CHI\", \"BOS\", … \"CHH\"]         │\n",
       "│ /players/h/horanjo01.html ┆ [\"2TM\", \"FTW\", \"MNL\"]           │\n",
       "│ …                         ┆ …                               │\n",
       "│ /players/i/iguodan01.html ┆ [\"MIA\", \"GSW\", … \"DEN\"]         │\n",
       "│ /players/h/hetzefr01.html ┆ [\"CIN\", \"2TM\", … \"LAL\"]         │\n",
       "│ /players/c/claxtsp01.html ┆ [\"NOH\", \"Did not play - injury… │\n",
       "│ /players/t/terryja01.html ┆ [\"BOS\", \"ATL\", … \"DAL\"]         │\n",
       "│ /players/l/lagarto01.html ┆ [\"DAL\", \"DEN\", … \"NJN\"]         │\n",
       "└───────────────────────────┴─────────────────────────────────┘"
      ]
     },
     "execution_count": 29,
     "metadata": {},
     "output_type": "execute_result"
    }
   ],
   "source": [
    "# Convert the list of dictionaries to a Polars DataFrame\n",
    "player_team_df = pl.DataFrame(all_player_teams)\n",
    "player_team_df"
   ]
  },
  {
   "cell_type": "code",
   "execution_count": 30,
   "metadata": {},
   "outputs": [
    {
     "name": "stderr",
     "output_type": "stream",
     "text": [
      "/var/folders/cb/4zxwl0213zqd2q8g2v7nx6tm0000gn/T/ipykernel_80748/3068046824.py:6: MapWithoutReturnDtypeWarning: Calling `map_elements` without specifying `return_dtype` can lead to unpredictable results. Specify `return_dtype` to silence this warning.\n",
      "  player_team_df = player_team_df.with_columns(\n"
     ]
    },
    {
     "data": {
      "text/html": [
       "<div><style>\n",
       ".dataframe > thead > tr,\n",
       ".dataframe > tbody > tr {\n",
       "  text-align: right;\n",
       "  white-space: pre-wrap;\n",
       "}\n",
       "</style>\n",
       "<small>shape: (1_273, 3)</small><table border=\"1\" class=\"dataframe\"><thead><tr><th>player_url</th><th>teams</th><th>clean_teams</th></tr><tr><td>str</td><td>list[str]</td><td>list[str]</td></tr></thead><tbody><tr><td>&quot;/players/o/odomla01.html&quot;</td><td>[&quot;LAC&quot;, &quot;LAL&quot;, … &quot;MIA&quot;]</td><td>[&quot;LAC&quot;, &quot;LAL&quot;, … &quot;MIA&quot;]</td></tr><tr><td>&quot;/players/p/paddige01.html&quot;</td><td>[&quot;WSB&quot;, &quot;NYK&quot;, … &quot;CLE&quot;]</td><td>[&quot;WSB&quot;, &quot;NYK&quot;, … &quot;CLE&quot;]</td></tr><tr><td>&quot;/players/e/eganjo01.html&quot;</td><td>[&quot;DET&quot;, &quot;BAL&quot;, … &quot;CLE&quot;]</td><td>[&quot;DET&quot;, &quot;BAL&quot;, … &quot;CLE&quot;]</td></tr><tr><td>&quot;/players/p/parisro01.html&quot;</td><td>[&quot;CHI&quot;, &quot;BOS&quot;, … &quot;CHH&quot;]</td><td>[&quot;CHI&quot;, &quot;BOS&quot;, … &quot;CHH&quot;]</td></tr><tr><td>&quot;/players/h/horanjo01.html&quot;</td><td>[&quot;2TM&quot;, &quot;FTW&quot;, &quot;MNL&quot;]</td><td>[&quot;FTW&quot;, &quot;MNL&quot;]</td></tr><tr><td>&hellip;</td><td>&hellip;</td><td>&hellip;</td></tr><tr><td>&quot;/players/i/iguodan01.html&quot;</td><td>[&quot;MIA&quot;, &quot;GSW&quot;, … &quot;DEN&quot;]</td><td>[&quot;MIA&quot;, &quot;GSW&quot;, … &quot;DEN&quot;]</td></tr><tr><td>&quot;/players/h/hetzefr01.html&quot;</td><td>[&quot;CIN&quot;, &quot;2TM&quot;, … &quot;LAL&quot;]</td><td>[&quot;CIN&quot;, &quot;MIL&quot;, … &quot;LAL&quot;]</td></tr><tr><td>&quot;/players/c/claxtsp01.html&quot;</td><td>[&quot;NOH&quot;, &quot;Did not play - injury&quot;, … &quot;GSW&quot;]</td><td>[&quot;NOH&quot;, &quot;ATL&quot;, … &quot;GSW&quot;]</td></tr><tr><td>&quot;/players/t/terryja01.html&quot;</td><td>[&quot;BOS&quot;, &quot;ATL&quot;, … &quot;DAL&quot;]</td><td>[&quot;BOS&quot;, &quot;ATL&quot;, … &quot;DAL&quot;]</td></tr><tr><td>&quot;/players/l/lagarto01.html&quot;</td><td>[&quot;DAL&quot;, &quot;DEN&quot;, … &quot;NJN&quot;]</td><td>[&quot;DAL&quot;, &quot;DEN&quot;, … &quot;NJN&quot;]</td></tr></tbody></table></div>"
      ],
      "text/plain": [
       "shape: (1_273, 3)\n",
       "┌───────────────────────────┬─────────────────────────────────┬─────────────────────────┐\n",
       "│ player_url                ┆ teams                           ┆ clean_teams             │\n",
       "│ ---                       ┆ ---                             ┆ ---                     │\n",
       "│ str                       ┆ list[str]                       ┆ list[str]               │\n",
       "╞═══════════════════════════╪═════════════════════════════════╪═════════════════════════╡\n",
       "│ /players/o/odomla01.html  ┆ [\"LAC\", \"LAL\", … \"MIA\"]         ┆ [\"LAC\", \"LAL\", … \"MIA\"] │\n",
       "│ /players/p/paddige01.html ┆ [\"WSB\", \"NYK\", … \"CLE\"]         ┆ [\"WSB\", \"NYK\", … \"CLE\"] │\n",
       "│ /players/e/eganjo01.html  ┆ [\"DET\", \"BAL\", … \"CLE\"]         ┆ [\"DET\", \"BAL\", … \"CLE\"] │\n",
       "│ /players/p/parisro01.html ┆ [\"CHI\", \"BOS\", … \"CHH\"]         ┆ [\"CHI\", \"BOS\", … \"CHH\"] │\n",
       "│ /players/h/horanjo01.html ┆ [\"2TM\", \"FTW\", \"MNL\"]           ┆ [\"FTW\", \"MNL\"]          │\n",
       "│ …                         ┆ …                               ┆ …                       │\n",
       "│ /players/i/iguodan01.html ┆ [\"MIA\", \"GSW\", … \"DEN\"]         ┆ [\"MIA\", \"GSW\", … \"DEN\"] │\n",
       "│ /players/h/hetzefr01.html ┆ [\"CIN\", \"2TM\", … \"LAL\"]         ┆ [\"CIN\", \"MIL\", … \"LAL\"] │\n",
       "│ /players/c/claxtsp01.html ┆ [\"NOH\", \"Did not play - injury… ┆ [\"NOH\", \"ATL\", … \"GSW\"] │\n",
       "│ /players/t/terryja01.html ┆ [\"BOS\", \"ATL\", … \"DAL\"]         ┆ [\"BOS\", \"ATL\", … \"DAL\"] │\n",
       "│ /players/l/lagarto01.html ┆ [\"DAL\", \"DEN\", … \"NJN\"]         ┆ [\"DAL\", \"DEN\", … \"NJN\"] │\n",
       "└───────────────────────────┴─────────────────────────────────┴─────────────────────────┘"
      ]
     },
     "execution_count": 30,
     "metadata": {},
     "output_type": "execute_result"
    }
   ],
   "source": [
    "def filter_non_teams(x):\n",
    "    # Filter out entries that are not 3-letter team abbreviations\n",
    "    return [team for team in x if len(team) == 3 and team.isalpha()]\n",
    "\n",
    "# Apply the filter function to the 'teams' column\n",
    "player_team_df = player_team_df.with_columns(\n",
    "    pl.col('teams').map_elements(filter_non_teams).alias('clean_teams')\n",
    ").filter(\n",
    "    pl.col(\"clean_teams\").list.len() > 0 # Remove any players that didn't have any valid teams\n",
    ")\n",
    "player_team_df"
   ]
  },
  {
   "cell_type": "code",
   "execution_count": 31,
   "metadata": {},
   "outputs": [
    {
     "data": {
      "text/html": [
       "<div><style>\n",
       ".dataframe > thead > tr,\n",
       ".dataframe > tbody > tr {\n",
       "  text-align: right;\n",
       "  white-space: pre-wrap;\n",
       "}\n",
       "</style>\n",
       "<small>shape: (76, 3)</small><table border=\"1\" class=\"dataframe\"><thead><tr><th>year</th><th>team1</th><th>team2</th></tr><tr><td>str</td><td>str</td><td>str</td></tr></thead><tbody><tr><td>&quot;2025&quot;</td><td>&quot;/teams/OKC/2025.html&quot;</td><td>&quot;/teams/IND/2025.html&quot;</td></tr><tr><td>&quot;2024&quot;</td><td>&quot;/teams/BOS/2024.html&quot;</td><td>&quot;/teams/DAL/2024.html&quot;</td></tr><tr><td>&quot;2023&quot;</td><td>&quot;/teams/DEN/2023.html&quot;</td><td>&quot;/teams/MIA/2023.html&quot;</td></tr><tr><td>&quot;2022&quot;</td><td>&quot;/teams/GSW/2022.html&quot;</td><td>&quot;/teams/BOS/2022.html&quot;</td></tr><tr><td>&quot;2021&quot;</td><td>&quot;/teams/MIL/2021.html&quot;</td><td>&quot;/teams/PHO/2021.html&quot;</td></tr><tr><td>&hellip;</td><td>&hellip;</td><td>&hellip;</td></tr><tr><td>&quot;1954&quot;</td><td>&quot;/teams/MNL/1954.html&quot;</td><td>&quot;/teams/SYR/1954.html&quot;</td></tr><tr><td>&quot;1953&quot;</td><td>&quot;/teams/MNL/1953.html&quot;</td><td>&quot;/teams/NYK/1953.html&quot;</td></tr><tr><td>&quot;1952&quot;</td><td>&quot;/teams/MNL/1952.html&quot;</td><td>&quot;/teams/NYK/1952.html&quot;</td></tr><tr><td>&quot;1951&quot;</td><td>&quot;/teams/ROC/1951.html&quot;</td><td>&quot;/teams/NYK/1951.html&quot;</td></tr><tr><td>&quot;1950&quot;</td><td>&quot;/teams/MNL/1950.html&quot;</td><td>&quot;/teams/SYR/1950.html&quot;</td></tr></tbody></table></div>"
      ],
      "text/plain": [
       "shape: (76, 3)\n",
       "┌──────┬──────────────────────┬──────────────────────┐\n",
       "│ year ┆ team1                ┆ team2                │\n",
       "│ ---  ┆ ---                  ┆ ---                  │\n",
       "│ str  ┆ str                  ┆ str                  │\n",
       "╞══════╪══════════════════════╪══════════════════════╡\n",
       "│ 2025 ┆ /teams/OKC/2025.html ┆ /teams/IND/2025.html │\n",
       "│ 2024 ┆ /teams/BOS/2024.html ┆ /teams/DAL/2024.html │\n",
       "│ 2023 ┆ /teams/DEN/2023.html ┆ /teams/MIA/2023.html │\n",
       "│ 2022 ┆ /teams/GSW/2022.html ┆ /teams/BOS/2022.html │\n",
       "│ 2021 ┆ /teams/MIL/2021.html ┆ /teams/PHO/2021.html │\n",
       "│ …    ┆ …                    ┆ …                    │\n",
       "│ 1954 ┆ /teams/MNL/1954.html ┆ /teams/SYR/1954.html │\n",
       "│ 1953 ┆ /teams/MNL/1953.html ┆ /teams/NYK/1953.html │\n",
       "│ 1952 ┆ /teams/MNL/1952.html ┆ /teams/NYK/1952.html │\n",
       "│ 1951 ┆ /teams/ROC/1951.html ┆ /teams/NYK/1951.html │\n",
       "│ 1950 ┆ /teams/MNL/1950.html ┆ /teams/SYR/1950.html │\n",
       "└──────┴──────────────────────┴──────────────────────┘"
      ]
     },
     "execution_count": 31,
     "metadata": {},
     "output_type": "execute_result"
    }
   ],
   "source": [
    "# Reshape yearly_teams to make it easier to work with\n",
    "yearly_teams_list = [[key, value[0], value[1]] for key, value in yearly_teams.items()]\n",
    "# Create a Polars DataFrame from the list\n",
    "yearly_teams_df = pl.DataFrame(yearly_teams_list, schema=[\"year\", \"team1\", \"team2\"], orient= \"row\")\n",
    "yearly_teams_df"
   ]
  },
  {
   "cell_type": "markdown",
   "metadata": {},
   "source": [
    "## Join\n",
    "\n",
    "For every team that was in the finals, find all the players on their team. Then, for every player that was on a finals team, find all the teams they played for."
   ]
  },
  {
   "cell_type": "code",
   "execution_count": 32,
   "metadata": {},
   "outputs": [],
   "source": [
    "# Stack the yearly teams DataFrame to have one row per team\n",
    "stacked_yearly_teams_df = pl.concat([\n",
    "    yearly_teams_df.select(\n",
    "        pl.col(\"year\"),\n",
    "        pl.col(\"team1\").alias(\"team\")\n",
    "    ),\n",
    "    yearly_teams_df.select(\n",
    "        pl.col(\"year\"),\n",
    "        pl.col(\"team2\").alias(\"team\"),\n",
    "    )\n",
    "])\n",
    "\n",
    "# Join the stacked yearly teams DataFrame with the roster df\n",
    "teams_with_rosters = stacked_yearly_teams_df.join(\n",
    "    rosters_df,\n",
    "    left_on=\"team\",\n",
    "    right_on=\"team_url\",\n",
    "    how=\"inner\"\n",
    ")\n",
    "\n",
    "# Join the teams with rosters DataFrame with the player teams DataFrame\n",
    "years_with_teams = teams_with_rosters.join(\n",
    "    player_team_df,\n",
    "    left_on=\"player_url\",\n",
    "    right_on=\"player_url\",\n",
    "    how=\"inner\"\n",
    ")\n",
    "\n",
    "# Get a list of unique teams for each year\n",
    "teams_per_year = years_with_teams.explode(\"clean_teams\").group_by(\"year\").agg(\n",
    "    pl.col(\"clean_teams\").unique()\n",
    ")"
   ]
  },
  {
   "cell_type": "markdown",
   "metadata": {},
   "source": [
    "## Pivot\n",
    "\n",
    "Pivot the final DataFrame so that we have a column for each team, and each row is a year. The column for each team indicates whether a player that every played for that team was in the finals that year."
   ]
  },
  {
   "cell_type": "code",
   "execution_count": 33,
   "metadata": {},
   "outputs": [],
   "source": [
    "# Pivot the DataFrame to have years as rows and teams as columns\n",
    "pivoted = teams_per_year.explode(\"clean_teams\").pivot(\n",
    "    index=\"year\",\n",
    "    on=\"clean_teams\",\n",
    "    values=\"clean_teams\",\n",
    "    aggregate_function=\"len\"\n",
    ").fill_null(0).sort(\"year\", descending=True)"
   ]
  },
  {
   "cell_type": "code",
   "execution_count": 34,
   "metadata": {},
   "outputs": [
    {
     "data": {
      "text/html": [
       "<div><style>\n",
       ".dataframe > thead > tr,\n",
       ".dataframe > tbody > tr {\n",
       "  text-align: right;\n",
       "  white-space: pre-wrap;\n",
       "}\n",
       "</style>\n",
       "<small>shape: (76, 94)</small><table border=\"1\" class=\"dataframe\"><thead><tr><th>year</th><th>WSB</th><th>DET</th><th>CAP</th><th>FLO</th><th>BOS</th><th>PHI</th><th>BUF</th><th>BAL</th><th>KCK</th><th>MIL</th><th>NYK</th><th>SDR</th><th>HOU</th><th>SEA</th><th>POR</th><th>CLE</th><th>DLC</th><th>INA</th><th>STL</th><th>NYA</th><th>SFW</th><th>CIN</th><th>PHO</th><th>LAL</th><th>CHI</th><th>TRI</th><th>MNL</th><th>PHW</th><th>STB</th><th>WSC</th><th>CHS</th><th>FTW</th><th>ROC</th><th>MLH</th><th>SYR</th><th>BLB</th><th>&hellip;</th><th>INO</th><th>OKC</th><th>CHO</th><th>BRK</th><th>NOH</th><th>CHA</th><th>UTA</th><th>MEM</th><th>NOP</th><th>NYN</th><th>DNR</th><th>VIR</th><th>NOJ</th><th>SSL</th><th>SDA</th><th>SDS</th><th>DNA</th><th>SDC</th><th>KCO</th><th>KEN</th><th>NOK</th><th>MMT</th><th>CAR</th><th>SAA</th><th>VAN</th><th>LAS</th><th>PTP</th><th>OAK</th><th>UTS</th><th>MMP</th><th>WSA</th><th>NOB</th><th>ANA</th><th>TEX</th><th>MNP</th><th>HSM</th><th>PTC</th></tr><tr><td>str</td><td>u32</td><td>u32</td><td>u32</td><td>u32</td><td>u32</td><td>u32</td><td>u32</td><td>u32</td><td>u32</td><td>u32</td><td>u32</td><td>u32</td><td>u32</td><td>u32</td><td>u32</td><td>u32</td><td>u32</td><td>u32</td><td>u32</td><td>u32</td><td>u32</td><td>u32</td><td>u32</td><td>u32</td><td>u32</td><td>u32</td><td>u32</td><td>u32</td><td>u32</td><td>u32</td><td>u32</td><td>u32</td><td>u32</td><td>u32</td><td>u32</td><td>u32</td><td>&hellip;</td><td>u32</td><td>u32</td><td>u32</td><td>u32</td><td>u32</td><td>u32</td><td>u32</td><td>u32</td><td>u32</td><td>u32</td><td>u32</td><td>u32</td><td>u32</td><td>u32</td><td>u32</td><td>u32</td><td>u32</td><td>u32</td><td>u32</td><td>u32</td><td>u32</td><td>u32</td><td>u32</td><td>u32</td><td>u32</td><td>u32</td><td>u32</td><td>u32</td><td>u32</td><td>u32</td><td>u32</td><td>u32</td><td>u32</td><td>u32</td><td>u32</td><td>u32</td><td>u32</td></tr></thead><tbody><tr><td>&quot;2025&quot;</td><td>0</td><td>0</td><td>0</td><td>0</td><td>1</td><td>1</td><td>0</td><td>0</td><td>0</td><td>0</td><td>1</td><td>0</td><td>1</td><td>0</td><td>0</td><td>1</td><td>0</td><td>0</td><td>0</td><td>0</td><td>0</td><td>0</td><td>0</td><td>1</td><td>1</td><td>0</td><td>0</td><td>0</td><td>0</td><td>0</td><td>0</td><td>0</td><td>0</td><td>0</td><td>0</td><td>0</td><td>&hellip;</td><td>0</td><td>1</td><td>0</td><td>1</td><td>0</td><td>0</td><td>1</td><td>1</td><td>1</td><td>0</td><td>0</td><td>0</td><td>0</td><td>0</td><td>0</td><td>0</td><td>0</td><td>0</td><td>0</td><td>0</td><td>0</td><td>0</td><td>0</td><td>0</td><td>0</td><td>0</td><td>0</td><td>0</td><td>0</td><td>0</td><td>0</td><td>0</td><td>0</td><td>0</td><td>0</td><td>0</td><td>0</td></tr><tr><td>&quot;2024&quot;</td><td>0</td><td>1</td><td>0</td><td>0</td><td>1</td><td>1</td><td>0</td><td>0</td><td>0</td><td>1</td><td>1</td><td>0</td><td>0</td><td>0</td><td>1</td><td>1</td><td>0</td><td>0</td><td>0</td><td>0</td><td>0</td><td>0</td><td>1</td><td>1</td><td>1</td><td>0</td><td>0</td><td>0</td><td>0</td><td>0</td><td>0</td><td>0</td><td>0</td><td>0</td><td>0</td><td>0</td><td>&hellip;</td><td>0</td><td>1</td><td>1</td><td>1</td><td>0</td><td>0</td><td>1</td><td>1</td><td>1</td><td>0</td><td>0</td><td>0</td><td>0</td><td>0</td><td>0</td><td>0</td><td>0</td><td>0</td><td>0</td><td>0</td><td>0</td><td>0</td><td>0</td><td>0</td><td>0</td><td>0</td><td>0</td><td>0</td><td>0</td><td>0</td><td>0</td><td>0</td><td>0</td><td>0</td><td>0</td><td>0</td><td>0</td></tr><tr><td>&quot;2023&quot;</td><td>0</td><td>1</td><td>0</td><td>0</td><td>1</td><td>1</td><td>0</td><td>0</td><td>0</td><td>1</td><td>1</td><td>0</td><td>1</td><td>1</td><td>1</td><td>1</td><td>0</td><td>0</td><td>0</td><td>0</td><td>0</td><td>0</td><td>1</td><td>1</td><td>1</td><td>0</td><td>0</td><td>0</td><td>0</td><td>0</td><td>0</td><td>0</td><td>0</td><td>0</td><td>0</td><td>0</td><td>&hellip;</td><td>0</td><td>1</td><td>1</td><td>1</td><td>0</td><td>1</td><td>1</td><td>1</td><td>1</td><td>0</td><td>0</td><td>0</td><td>0</td><td>0</td><td>0</td><td>0</td><td>0</td><td>0</td><td>0</td><td>0</td><td>0</td><td>0</td><td>0</td><td>0</td><td>0</td><td>0</td><td>0</td><td>0</td><td>0</td><td>0</td><td>0</td><td>0</td><td>0</td><td>0</td><td>0</td><td>0</td><td>0</td></tr><tr><td>&quot;2022&quot;</td><td>0</td><td>1</td><td>0</td><td>0</td><td>1</td><td>1</td><td>0</td><td>0</td><td>0</td><td>1</td><td>1</td><td>0</td><td>1</td><td>0</td><td>1</td><td>1</td><td>0</td><td>0</td><td>0</td><td>0</td><td>0</td><td>0</td><td>1</td><td>1</td><td>1</td><td>0</td><td>0</td><td>0</td><td>0</td><td>0</td><td>0</td><td>0</td><td>0</td><td>0</td><td>0</td><td>0</td><td>&hellip;</td><td>0</td><td>1</td><td>1</td><td>1</td><td>0</td><td>0</td><td>1</td><td>1</td><td>1</td><td>0</td><td>0</td><td>0</td><td>0</td><td>0</td><td>0</td><td>0</td><td>0</td><td>0</td><td>0</td><td>0</td><td>0</td><td>0</td><td>0</td><td>0</td><td>0</td><td>0</td><td>0</td><td>0</td><td>0</td><td>0</td><td>0</td><td>0</td><td>0</td><td>0</td><td>0</td><td>0</td><td>0</td></tr><tr><td>&quot;2021&quot;</td><td>0</td><td>1</td><td>0</td><td>0</td><td>1</td><td>1</td><td>0</td><td>0</td><td>0</td><td>1</td><td>1</td><td>0</td><td>1</td><td>0</td><td>1</td><td>1</td><td>0</td><td>0</td><td>0</td><td>0</td><td>0</td><td>0</td><td>1</td><td>1</td><td>1</td><td>0</td><td>0</td><td>0</td><td>0</td><td>0</td><td>0</td><td>0</td><td>0</td><td>0</td><td>0</td><td>0</td><td>&hellip;</td><td>0</td><td>1</td><td>1</td><td>1</td><td>1</td><td>1</td><td>1</td><td>1</td><td>1</td><td>0</td><td>0</td><td>0</td><td>0</td><td>0</td><td>0</td><td>0</td><td>0</td><td>0</td><td>0</td><td>0</td><td>1</td><td>0</td><td>0</td><td>0</td><td>0</td><td>0</td><td>0</td><td>0</td><td>0</td><td>0</td><td>0</td><td>0</td><td>0</td><td>0</td><td>0</td><td>0</td><td>0</td></tr><tr><td>&hellip;</td><td>&hellip;</td><td>&hellip;</td><td>&hellip;</td><td>&hellip;</td><td>&hellip;</td><td>&hellip;</td><td>&hellip;</td><td>&hellip;</td><td>&hellip;</td><td>&hellip;</td><td>&hellip;</td><td>&hellip;</td><td>&hellip;</td><td>&hellip;</td><td>&hellip;</td><td>&hellip;</td><td>&hellip;</td><td>&hellip;</td><td>&hellip;</td><td>&hellip;</td><td>&hellip;</td><td>&hellip;</td><td>&hellip;</td><td>&hellip;</td><td>&hellip;</td><td>&hellip;</td><td>&hellip;</td><td>&hellip;</td><td>&hellip;</td><td>&hellip;</td><td>&hellip;</td><td>&hellip;</td><td>&hellip;</td><td>&hellip;</td><td>&hellip;</td><td>&hellip;</td><td>&hellip;</td><td>&hellip;</td><td>&hellip;</td><td>&hellip;</td><td>&hellip;</td><td>&hellip;</td><td>&hellip;</td><td>&hellip;</td><td>&hellip;</td><td>&hellip;</td><td>&hellip;</td><td>&hellip;</td><td>&hellip;</td><td>&hellip;</td><td>&hellip;</td><td>&hellip;</td><td>&hellip;</td><td>&hellip;</td><td>&hellip;</td><td>&hellip;</td><td>&hellip;</td><td>&hellip;</td><td>&hellip;</td><td>&hellip;</td><td>&hellip;</td><td>&hellip;</td><td>&hellip;</td><td>&hellip;</td><td>&hellip;</td><td>&hellip;</td><td>&hellip;</td><td>&hellip;</td><td>&hellip;</td><td>&hellip;</td><td>&hellip;</td><td>&hellip;</td><td>&hellip;</td><td>&hellip;</td></tr><tr><td>&quot;1954&quot;</td><td>0</td><td>1</td><td>0</td><td>0</td><td>1</td><td>1</td><td>0</td><td>0</td><td>0</td><td>0</td><td>1</td><td>0</td><td>0</td><td>0</td><td>0</td><td>0</td><td>0</td><td>0</td><td>1</td><td>0</td><td>0</td><td>1</td><td>0</td><td>0</td><td>0</td><td>0</td><td>1</td><td>1</td><td>0</td><td>1</td><td>0</td><td>1</td><td>1</td><td>1</td><td>1</td><td>1</td><td>&hellip;</td><td>1</td><td>0</td><td>0</td><td>0</td><td>0</td><td>0</td><td>0</td><td>0</td><td>0</td><td>0</td><td>0</td><td>0</td><td>0</td><td>0</td><td>0</td><td>0</td><td>0</td><td>0</td><td>0</td><td>0</td><td>0</td><td>0</td><td>0</td><td>0</td><td>0</td><td>0</td><td>0</td><td>0</td><td>0</td><td>0</td><td>0</td><td>0</td><td>0</td><td>0</td><td>0</td><td>0</td><td>0</td></tr><tr><td>&quot;1953&quot;</td><td>0</td><td>1</td><td>0</td><td>0</td><td>1</td><td>0</td><td>0</td><td>0</td><td>0</td><td>0</td><td>1</td><td>0</td><td>0</td><td>0</td><td>0</td><td>0</td><td>0</td><td>0</td><td>1</td><td>0</td><td>0</td><td>0</td><td>0</td><td>0</td><td>0</td><td>0</td><td>1</td><td>1</td><td>0</td><td>1</td><td>1</td><td>1</td><td>1</td><td>1</td><td>1</td><td>1</td><td>&hellip;</td><td>0</td><td>0</td><td>0</td><td>0</td><td>0</td><td>0</td><td>0</td><td>0</td><td>0</td><td>0</td><td>0</td><td>0</td><td>0</td><td>0</td><td>0</td><td>0</td><td>0</td><td>0</td><td>0</td><td>0</td><td>0</td><td>0</td><td>0</td><td>0</td><td>0</td><td>0</td><td>0</td><td>0</td><td>0</td><td>0</td><td>0</td><td>0</td><td>0</td><td>0</td><td>0</td><td>0</td><td>0</td></tr><tr><td>&quot;1952&quot;</td><td>0</td><td>1</td><td>0</td><td>0</td><td>1</td><td>0</td><td>0</td><td>0</td><td>0</td><td>0</td><td>1</td><td>0</td><td>0</td><td>0</td><td>0</td><td>0</td><td>0</td><td>0</td><td>1</td><td>0</td><td>0</td><td>0</td><td>0</td><td>0</td><td>0</td><td>1</td><td>1</td><td>1</td><td>0</td><td>0</td><td>1</td><td>1</td><td>1</td><td>1</td><td>1</td><td>1</td><td>&hellip;</td><td>0</td><td>0</td><td>0</td><td>0</td><td>0</td><td>0</td><td>0</td><td>0</td><td>0</td><td>0</td><td>0</td><td>0</td><td>0</td><td>0</td><td>0</td><td>0</td><td>0</td><td>0</td><td>0</td><td>0</td><td>0</td><td>0</td><td>0</td><td>0</td><td>0</td><td>0</td><td>0</td><td>0</td><td>0</td><td>0</td><td>0</td><td>0</td><td>0</td><td>0</td><td>0</td><td>0</td><td>0</td></tr><tr><td>&quot;1951&quot;</td><td>0</td><td>1</td><td>0</td><td>0</td><td>1</td><td>0</td><td>0</td><td>0</td><td>0</td><td>0</td><td>1</td><td>0</td><td>0</td><td>0</td><td>0</td><td>0</td><td>0</td><td>0</td><td>1</td><td>0</td><td>0</td><td>0</td><td>0</td><td>0</td><td>0</td><td>0</td><td>1</td><td>1</td><td>0</td><td>1</td><td>1</td><td>1</td><td>1</td><td>1</td><td>1</td><td>1</td><td>&hellip;</td><td>1</td><td>0</td><td>0</td><td>0</td><td>0</td><td>0</td><td>0</td><td>0</td><td>0</td><td>0</td><td>0</td><td>0</td><td>0</td><td>0</td><td>0</td><td>0</td><td>0</td><td>0</td><td>0</td><td>0</td><td>0</td><td>0</td><td>0</td><td>0</td><td>0</td><td>0</td><td>0</td><td>0</td><td>0</td><td>0</td><td>0</td><td>0</td><td>0</td><td>0</td><td>0</td><td>0</td><td>0</td></tr><tr><td>&quot;1950&quot;</td><td>0</td><td>0</td><td>0</td><td>0</td><td>1</td><td>1</td><td>0</td><td>0</td><td>0</td><td>0</td><td>1</td><td>0</td><td>0</td><td>0</td><td>0</td><td>0</td><td>0</td><td>0</td><td>1</td><td>0</td><td>0</td><td>0</td><td>0</td><td>0</td><td>0</td><td>1</td><td>1</td><td>1</td><td>0</td><td>0</td><td>1</td><td>1</td><td>1</td><td>1</td><td>1</td><td>1</td><td>&hellip;</td><td>1</td><td>0</td><td>0</td><td>0</td><td>0</td><td>0</td><td>0</td><td>0</td><td>0</td><td>0</td><td>0</td><td>0</td><td>0</td><td>0</td><td>0</td><td>0</td><td>0</td><td>0</td><td>0</td><td>0</td><td>0</td><td>0</td><td>0</td><td>0</td><td>0</td><td>0</td><td>0</td><td>0</td><td>0</td><td>0</td><td>0</td><td>0</td><td>0</td><td>0</td><td>0</td><td>0</td><td>0</td></tr></tbody></table></div>"
      ],
      "text/plain": [
       "shape: (76, 94)\n",
       "┌──────┬─────┬─────┬─────┬───┬─────┬─────┬─────┬─────┐\n",
       "│ year ┆ WSB ┆ DET ┆ CAP ┆ … ┆ TEX ┆ MNP ┆ HSM ┆ PTC │\n",
       "│ ---  ┆ --- ┆ --- ┆ --- ┆   ┆ --- ┆ --- ┆ --- ┆ --- │\n",
       "│ str  ┆ u32 ┆ u32 ┆ u32 ┆   ┆ u32 ┆ u32 ┆ u32 ┆ u32 │\n",
       "╞══════╪═════╪═════╪═════╪═══╪═════╪═════╪═════╪═════╡\n",
       "│ 2025 ┆ 0   ┆ 0   ┆ 0   ┆ … ┆ 0   ┆ 0   ┆ 0   ┆ 0   │\n",
       "│ 2024 ┆ 0   ┆ 1   ┆ 0   ┆ … ┆ 0   ┆ 0   ┆ 0   ┆ 0   │\n",
       "│ 2023 ┆ 0   ┆ 1   ┆ 0   ┆ … ┆ 0   ┆ 0   ┆ 0   ┆ 0   │\n",
       "│ 2022 ┆ 0   ┆ 1   ┆ 0   ┆ … ┆ 0   ┆ 0   ┆ 0   ┆ 0   │\n",
       "│ 2021 ┆ 0   ┆ 1   ┆ 0   ┆ … ┆ 0   ┆ 0   ┆ 0   ┆ 0   │\n",
       "│ …    ┆ …   ┆ …   ┆ …   ┆ … ┆ …   ┆ …   ┆ …   ┆ …   │\n",
       "│ 1954 ┆ 0   ┆ 1   ┆ 0   ┆ … ┆ 0   ┆ 0   ┆ 0   ┆ 0   │\n",
       "│ 1953 ┆ 0   ┆ 1   ┆ 0   ┆ … ┆ 0   ┆ 0   ┆ 0   ┆ 0   │\n",
       "│ 1952 ┆ 0   ┆ 1   ┆ 0   ┆ … ┆ 0   ┆ 0   ┆ 0   ┆ 0   │\n",
       "│ 1951 ┆ 0   ┆ 1   ┆ 0   ┆ … ┆ 0   ┆ 0   ┆ 0   ┆ 0   │\n",
       "│ 1950 ┆ 0   ┆ 0   ┆ 0   ┆ … ┆ 0   ┆ 0   ┆ 0   ┆ 0   │\n",
       "└──────┴─────┴─────┴─────┴───┴─────┴─────┴─────┴─────┘"
      ]
     },
     "execution_count": 34,
     "metadata": {},
     "output_type": "execute_result"
    }
   ],
   "source": [
    "pivoted"
   ]
  },
  {
   "cell_type": "markdown",
   "metadata": {},
   "source": [
    "## Formatting\n",
    "\n",
    "Add a totals row and sort the columns based on the totals."
   ]
  },
  {
   "cell_type": "code",
   "execution_count": 35,
   "metadata": {},
   "outputs": [],
   "source": [
    "# Make a new row that is the sum of all columns\n",
    "pivoted_sorted = pl.concat([\n",
    "    pivoted,\n",
    "    pivoted.select(cs.numeric()).sum().insert_column(\n",
    "        0,\n",
    "        pl.lit(\"Total\").alias(\"year\")\n",
    "    )\n",
    "])"
   ]
  },
  {
   "cell_type": "code",
   "execution_count": 36,
   "metadata": {},
   "outputs": [],
   "source": [
    "# Get the last row without the year\n",
    "last_row = pivoted_sorted[-1, 1:].row(index=0, named=True)\n",
    "# Sort the columns based on the values in the last row\n",
    "sorted_cols = sorted(last_row.items(), key=lambda item: item[1], reverse=True)\n",
    "# Get the sorted column names\n",
    "sorted_col_names = [col[0] for col in sorted_cols]\n",
    "\n",
    "# Reorder the DataFrame columns based on the sorted column names\n",
    "pivoted_sorted = pivoted_sorted.select(\n",
    "    pl.col(\"year\").alias(\"Year\"),\n",
    "    *sorted_col_names\n",
    ")"
   ]
  },
  {
   "cell_type": "code",
   "execution_count": 37,
   "metadata": {},
   "outputs": [
    {
     "data": {
      "text/html": [
       "<div><style>\n",
       ".dataframe > thead > tr,\n",
       ".dataframe > tbody > tr {\n",
       "  text-align: right;\n",
       "  white-space: pre-wrap;\n",
       "}\n",
       "</style>\n",
       "<small>shape: (77, 94)</small><table border=\"1\" class=\"dataframe\"><thead><tr><th>Year</th><th>NYK</th><th>BOS</th><th>DET</th><th>LAL</th><th>PHI</th><th>MIL</th><th>CLE</th><th>PHO</th><th>CHI</th><th>ATL</th><th>HOU</th><th>POR</th><th>GSW</th><th>SEA</th><th>SAS</th><th>IND</th><th>LAC</th><th>DEN</th><th>UTA</th><th>DAL</th><th>SAC</th><th>NJN</th><th>ORL</th><th>MIA</th><th>MIN</th><th>TOR</th><th>WSB</th><th>WAS</th><th>CHH</th><th>STL</th><th>MEM</th><th>OKC</th><th>NOH</th><th>CIN</th><th>MNL</th><th>BRK</th><th>&hellip;</th><th>DLC</th><th>WSC</th><th>CHZ</th><th>VIR</th><th>SSL</th><th>KCO</th><th>KEN</th><th>CHS</th><th>CAP</th><th>INA</th><th>UTS</th><th>TRI</th><th>SDA</th><th>CHP</th><th>INO</th><th>NYN</th><th>DNA</th><th>CAR</th><th>OAK</th><th>AND</th><th>MMT</th><th>SAA</th><th>LAS</th><th>STB</th><th>INJ</th><th>SDS</th><th>PTC</th><th>FLO</th><th>PTP</th><th>WSA</th><th>ANA</th><th>TEX</th><th>WAT</th><th>MMP</th><th>NOB</th><th>MNP</th><th>HSM</th></tr><tr><td>str</td><td>u32</td><td>u32</td><td>u32</td><td>u32</td><td>u32</td><td>u32</td><td>u32</td><td>u32</td><td>u32</td><td>u32</td><td>u32</td><td>u32</td><td>u32</td><td>u32</td><td>u32</td><td>u32</td><td>u32</td><td>u32</td><td>u32</td><td>u32</td><td>u32</td><td>u32</td><td>u32</td><td>u32</td><td>u32</td><td>u32</td><td>u32</td><td>u32</td><td>u32</td><td>u32</td><td>u32</td><td>u32</td><td>u32</td><td>u32</td><td>u32</td><td>u32</td><td>&hellip;</td><td>u32</td><td>u32</td><td>u32</td><td>u32</td><td>u32</td><td>u32</td><td>u32</td><td>u32</td><td>u32</td><td>u32</td><td>u32</td><td>u32</td><td>u32</td><td>u32</td><td>u32</td><td>u32</td><td>u32</td><td>u32</td><td>u32</td><td>u32</td><td>u32</td><td>u32</td><td>u32</td><td>u32</td><td>u32</td><td>u32</td><td>u32</td><td>u32</td><td>u32</td><td>u32</td><td>u32</td><td>u32</td><td>u32</td><td>u32</td><td>u32</td><td>u32</td><td>u32</td></tr></thead><tbody><tr><td>&quot;2025&quot;</td><td>1</td><td>1</td><td>0</td><td>1</td><td>1</td><td>0</td><td>1</td><td>0</td><td>1</td><td>0</td><td>1</td><td>0</td><td>0</td><td>0</td><td>0</td><td>1</td><td>1</td><td>1</td><td>1</td><td>1</td><td>1</td><td>0</td><td>0</td><td>1</td><td>1</td><td>1</td><td>0</td><td>1</td><td>0</td><td>0</td><td>1</td><td>1</td><td>0</td><td>0</td><td>0</td><td>1</td><td>&hellip;</td><td>0</td><td>0</td><td>0</td><td>0</td><td>0</td><td>0</td><td>0</td><td>0</td><td>0</td><td>0</td><td>0</td><td>0</td><td>0</td><td>0</td><td>0</td><td>0</td><td>0</td><td>0</td><td>0</td><td>0</td><td>0</td><td>0</td><td>0</td><td>0</td><td>0</td><td>0</td><td>0</td><td>0</td><td>0</td><td>0</td><td>0</td><td>0</td><td>0</td><td>0</td><td>0</td><td>0</td><td>0</td></tr><tr><td>&quot;2024&quot;</td><td>1</td><td>1</td><td>1</td><td>1</td><td>1</td><td>1</td><td>1</td><td>1</td><td>1</td><td>1</td><td>0</td><td>1</td><td>0</td><td>0</td><td>1</td><td>1</td><td>1</td><td>0</td><td>1</td><td>1</td><td>1</td><td>0</td><td>0</td><td>1</td><td>1</td><td>1</td><td>0</td><td>1</td><td>0</td><td>0</td><td>1</td><td>1</td><td>0</td><td>0</td><td>0</td><td>1</td><td>&hellip;</td><td>0</td><td>0</td><td>0</td><td>0</td><td>0</td><td>0</td><td>0</td><td>0</td><td>0</td><td>0</td><td>0</td><td>0</td><td>0</td><td>0</td><td>0</td><td>0</td><td>0</td><td>0</td><td>0</td><td>0</td><td>0</td><td>0</td><td>0</td><td>0</td><td>0</td><td>0</td><td>0</td><td>0</td><td>0</td><td>0</td><td>0</td><td>0</td><td>0</td><td>0</td><td>0</td><td>0</td><td>0</td></tr><tr><td>&quot;2023&quot;</td><td>1</td><td>1</td><td>1</td><td>1</td><td>1</td><td>1</td><td>1</td><td>1</td><td>1</td><td>1</td><td>1</td><td>1</td><td>1</td><td>1</td><td>1</td><td>1</td><td>1</td><td>1</td><td>1</td><td>1</td><td>1</td><td>0</td><td>1</td><td>1</td><td>1</td><td>1</td><td>0</td><td>1</td><td>0</td><td>0</td><td>1</td><td>1</td><td>0</td><td>0</td><td>0</td><td>1</td><td>&hellip;</td><td>0</td><td>0</td><td>0</td><td>0</td><td>0</td><td>0</td><td>0</td><td>0</td><td>0</td><td>0</td><td>0</td><td>0</td><td>0</td><td>0</td><td>0</td><td>0</td><td>0</td><td>0</td><td>0</td><td>0</td><td>0</td><td>0</td><td>0</td><td>0</td><td>0</td><td>0</td><td>0</td><td>0</td><td>0</td><td>0</td><td>0</td><td>0</td><td>0</td><td>0</td><td>0</td><td>0</td><td>0</td></tr><tr><td>&quot;2022&quot;</td><td>1</td><td>1</td><td>1</td><td>1</td><td>1</td><td>1</td><td>1</td><td>1</td><td>1</td><td>1</td><td>1</td><td>1</td><td>1</td><td>0</td><td>1</td><td>1</td><td>1</td><td>1</td><td>1</td><td>1</td><td>1</td><td>0</td><td>1</td><td>1</td><td>1</td><td>1</td><td>0</td><td>1</td><td>0</td><td>0</td><td>1</td><td>1</td><td>0</td><td>0</td><td>0</td><td>1</td><td>&hellip;</td><td>0</td><td>0</td><td>0</td><td>0</td><td>0</td><td>0</td><td>0</td><td>0</td><td>0</td><td>0</td><td>0</td><td>0</td><td>0</td><td>0</td><td>0</td><td>0</td><td>0</td><td>0</td><td>0</td><td>0</td><td>0</td><td>0</td><td>0</td><td>0</td><td>0</td><td>0</td><td>0</td><td>0</td><td>0</td><td>0</td><td>0</td><td>0</td><td>0</td><td>0</td><td>0</td><td>0</td><td>0</td></tr><tr><td>&quot;2021&quot;</td><td>1</td><td>1</td><td>1</td><td>1</td><td>1</td><td>1</td><td>1</td><td>1</td><td>1</td><td>1</td><td>1</td><td>1</td><td>1</td><td>0</td><td>1</td><td>1</td><td>1</td><td>1</td><td>1</td><td>1</td><td>1</td><td>1</td><td>1</td><td>1</td><td>1</td><td>1</td><td>0</td><td>1</td><td>0</td><td>0</td><td>1</td><td>1</td><td>1</td><td>0</td><td>0</td><td>1</td><td>&hellip;</td><td>0</td><td>0</td><td>0</td><td>0</td><td>0</td><td>0</td><td>0</td><td>0</td><td>0</td><td>0</td><td>0</td><td>0</td><td>0</td><td>0</td><td>0</td><td>0</td><td>0</td><td>0</td><td>0</td><td>0</td><td>0</td><td>0</td><td>0</td><td>0</td><td>0</td><td>0</td><td>0</td><td>0</td><td>0</td><td>0</td><td>0</td><td>0</td><td>0</td><td>0</td><td>0</td><td>0</td><td>0</td></tr><tr><td>&hellip;</td><td>&hellip;</td><td>&hellip;</td><td>&hellip;</td><td>&hellip;</td><td>&hellip;</td><td>&hellip;</td><td>&hellip;</td><td>&hellip;</td><td>&hellip;</td><td>&hellip;</td><td>&hellip;</td><td>&hellip;</td><td>&hellip;</td><td>&hellip;</td><td>&hellip;</td><td>&hellip;</td><td>&hellip;</td><td>&hellip;</td><td>&hellip;</td><td>&hellip;</td><td>&hellip;</td><td>&hellip;</td><td>&hellip;</td><td>&hellip;</td><td>&hellip;</td><td>&hellip;</td><td>&hellip;</td><td>&hellip;</td><td>&hellip;</td><td>&hellip;</td><td>&hellip;</td><td>&hellip;</td><td>&hellip;</td><td>&hellip;</td><td>&hellip;</td><td>&hellip;</td><td>&hellip;</td><td>&hellip;</td><td>&hellip;</td><td>&hellip;</td><td>&hellip;</td><td>&hellip;</td><td>&hellip;</td><td>&hellip;</td><td>&hellip;</td><td>&hellip;</td><td>&hellip;</td><td>&hellip;</td><td>&hellip;</td><td>&hellip;</td><td>&hellip;</td><td>&hellip;</td><td>&hellip;</td><td>&hellip;</td><td>&hellip;</td><td>&hellip;</td><td>&hellip;</td><td>&hellip;</td><td>&hellip;</td><td>&hellip;</td><td>&hellip;</td><td>&hellip;</td><td>&hellip;</td><td>&hellip;</td><td>&hellip;</td><td>&hellip;</td><td>&hellip;</td><td>&hellip;</td><td>&hellip;</td><td>&hellip;</td><td>&hellip;</td><td>&hellip;</td><td>&hellip;</td><td>&hellip;</td></tr><tr><td>&quot;1953&quot;</td><td>1</td><td>1</td><td>1</td><td>0</td><td>0</td><td>0</td><td>0</td><td>0</td><td>0</td><td>0</td><td>0</td><td>0</td><td>0</td><td>0</td><td>0</td><td>0</td><td>0</td><td>0</td><td>0</td><td>0</td><td>0</td><td>0</td><td>0</td><td>0</td><td>0</td><td>0</td><td>0</td><td>0</td><td>0</td><td>1</td><td>0</td><td>0</td><td>0</td><td>0</td><td>1</td><td>0</td><td>&hellip;</td><td>0</td><td>1</td><td>0</td><td>0</td><td>0</td><td>0</td><td>0</td><td>1</td><td>0</td><td>0</td><td>0</td><td>0</td><td>0</td><td>0</td><td>0</td><td>0</td><td>0</td><td>0</td><td>0</td><td>1</td><td>0</td><td>0</td><td>0</td><td>0</td><td>1</td><td>0</td><td>0</td><td>0</td><td>0</td><td>0</td><td>0</td><td>0</td><td>0</td><td>0</td><td>0</td><td>0</td><td>0</td></tr><tr><td>&quot;1952&quot;</td><td>1</td><td>1</td><td>1</td><td>0</td><td>0</td><td>0</td><td>0</td><td>0</td><td>0</td><td>0</td><td>0</td><td>0</td><td>0</td><td>0</td><td>0</td><td>0</td><td>0</td><td>0</td><td>0</td><td>0</td><td>0</td><td>0</td><td>0</td><td>0</td><td>0</td><td>0</td><td>0</td><td>0</td><td>0</td><td>1</td><td>0</td><td>0</td><td>0</td><td>0</td><td>1</td><td>0</td><td>&hellip;</td><td>0</td><td>0</td><td>0</td><td>0</td><td>0</td><td>0</td><td>0</td><td>1</td><td>0</td><td>0</td><td>0</td><td>1</td><td>0</td><td>0</td><td>0</td><td>0</td><td>0</td><td>0</td><td>0</td><td>1</td><td>0</td><td>0</td><td>0</td><td>0</td><td>1</td><td>0</td><td>0</td><td>0</td><td>0</td><td>0</td><td>0</td><td>0</td><td>0</td><td>0</td><td>0</td><td>0</td><td>0</td></tr><tr><td>&quot;1951&quot;</td><td>1</td><td>1</td><td>1</td><td>0</td><td>0</td><td>0</td><td>0</td><td>0</td><td>0</td><td>0</td><td>0</td><td>0</td><td>0</td><td>0</td><td>0</td><td>0</td><td>0</td><td>0</td><td>0</td><td>0</td><td>0</td><td>0</td><td>0</td><td>0</td><td>0</td><td>0</td><td>0</td><td>0</td><td>0</td><td>1</td><td>0</td><td>0</td><td>0</td><td>0</td><td>1</td><td>0</td><td>&hellip;</td><td>0</td><td>1</td><td>0</td><td>0</td><td>0</td><td>0</td><td>0</td><td>1</td><td>0</td><td>0</td><td>0</td><td>0</td><td>0</td><td>0</td><td>1</td><td>0</td><td>0</td><td>0</td><td>0</td><td>0</td><td>0</td><td>0</td><td>0</td><td>0</td><td>1</td><td>0</td><td>0</td><td>0</td><td>0</td><td>0</td><td>0</td><td>0</td><td>0</td><td>0</td><td>0</td><td>0</td><td>0</td></tr><tr><td>&quot;1950&quot;</td><td>1</td><td>1</td><td>0</td><td>0</td><td>1</td><td>0</td><td>0</td><td>0</td><td>0</td><td>0</td><td>0</td><td>0</td><td>0</td><td>0</td><td>0</td><td>0</td><td>0</td><td>0</td><td>0</td><td>0</td><td>0</td><td>0</td><td>0</td><td>0</td><td>0</td><td>0</td><td>0</td><td>0</td><td>0</td><td>1</td><td>0</td><td>0</td><td>0</td><td>0</td><td>1</td><td>0</td><td>&hellip;</td><td>0</td><td>0</td><td>0</td><td>0</td><td>0</td><td>0</td><td>0</td><td>1</td><td>0</td><td>0</td><td>0</td><td>1</td><td>0</td><td>0</td><td>1</td><td>0</td><td>0</td><td>0</td><td>0</td><td>0</td><td>0</td><td>0</td><td>0</td><td>0</td><td>0</td><td>0</td><td>0</td><td>0</td><td>0</td><td>0</td><td>0</td><td>0</td><td>1</td><td>0</td><td>0</td><td>0</td><td>0</td></tr><tr><td>&quot;Total&quot;</td><td>75</td><td>71</td><td>68</td><td>65</td><td>64</td><td>60</td><td>60</td><td>60</td><td>60</td><td>60</td><td>59</td><td>58</td><td>56</td><td>53</td><td>49</td><td>48</td><td>48</td><td>45</td><td>44</td><td>43</td><td>41</td><td>41</td><td>40</td><td>39</td><td>38</td><td>37</td><td>35</td><td>35</td><td>28</td><td>26</td><td>26</td><td>25</td><td>23</td><td>22</td><td>21</td><td>21</td><td>&hellip;</td><td>9</td><td>9</td><td>9</td><td>9</td><td>9</td><td>9</td><td>9</td><td>8</td><td>7</td><td>7</td><td>7</td><td>6</td><td>6</td><td>5</td><td>5</td><td>5</td><td>5</td><td>5</td><td>5</td><td>4</td><td>4</td><td>4</td><td>4</td><td>3</td><td>3</td><td>3</td><td>3</td><td>2</td><td>2</td><td>2</td><td>2</td><td>2</td><td>1</td><td>1</td><td>1</td><td>1</td><td>1</td></tr></tbody></table></div>"
      ],
      "text/plain": [
       "shape: (77, 94)\n",
       "┌───────┬─────┬─────┬─────┬───┬─────┬─────┬─────┬─────┐\n",
       "│ Year  ┆ NYK ┆ BOS ┆ DET ┆ … ┆ MMP ┆ NOB ┆ MNP ┆ HSM │\n",
       "│ ---   ┆ --- ┆ --- ┆ --- ┆   ┆ --- ┆ --- ┆ --- ┆ --- │\n",
       "│ str   ┆ u32 ┆ u32 ┆ u32 ┆   ┆ u32 ┆ u32 ┆ u32 ┆ u32 │\n",
       "╞═══════╪═════╪═════╪═════╪═══╪═════╪═════╪═════╪═════╡\n",
       "│ 2025  ┆ 1   ┆ 1   ┆ 0   ┆ … ┆ 0   ┆ 0   ┆ 0   ┆ 0   │\n",
       "│ 2024  ┆ 1   ┆ 1   ┆ 1   ┆ … ┆ 0   ┆ 0   ┆ 0   ┆ 0   │\n",
       "│ 2023  ┆ 1   ┆ 1   ┆ 1   ┆ … ┆ 0   ┆ 0   ┆ 0   ┆ 0   │\n",
       "│ 2022  ┆ 1   ┆ 1   ┆ 1   ┆ … ┆ 0   ┆ 0   ┆ 0   ┆ 0   │\n",
       "│ 2021  ┆ 1   ┆ 1   ┆ 1   ┆ … ┆ 0   ┆ 0   ┆ 0   ┆ 0   │\n",
       "│ …     ┆ …   ┆ …   ┆ …   ┆ … ┆ …   ┆ …   ┆ …   ┆ …   │\n",
       "│ 1953  ┆ 1   ┆ 1   ┆ 1   ┆ … ┆ 0   ┆ 0   ┆ 0   ┆ 0   │\n",
       "│ 1952  ┆ 1   ┆ 1   ┆ 1   ┆ … ┆ 0   ┆ 0   ┆ 0   ┆ 0   │\n",
       "│ 1951  ┆ 1   ┆ 1   ┆ 1   ┆ … ┆ 0   ┆ 0   ┆ 0   ┆ 0   │\n",
       "│ 1950  ┆ 1   ┆ 1   ┆ 0   ┆ … ┆ 0   ┆ 0   ┆ 0   ┆ 0   │\n",
       "│ Total ┆ 75  ┆ 71  ┆ 68  ┆ … ┆ 1   ┆ 1   ┆ 1   ┆ 1   │\n",
       "└───────┴─────┴─────┴─────┴───┴─────┴─────┴─────┴─────┘"
      ]
     },
     "execution_count": 37,
     "metadata": {},
     "output_type": "execute_result"
    }
   ],
   "source": [
    "pivoted_sorted"
   ]
  },
  {
   "cell_type": "code",
   "execution_count": 38,
   "metadata": {},
   "outputs": [],
   "source": [
    "# Write to CSV\n",
    "pivoted_sorted.write_csv(\"teams_per_year.csv\")"
   ]
  }
 ],
 "metadata": {
  "kernelspec": {
   "display_name": "acro",
   "language": "python",
   "name": "python3"
  },
  "language_info": {
   "codemirror_mode": {
    "name": "ipython",
    "version": 3
   },
   "file_extension": ".py",
   "mimetype": "text/x-python",
   "name": "python",
   "nbconvert_exporter": "python",
   "pygments_lexer": "ipython3",
   "version": "3.12.9"
  }
 },
 "nbformat": 4,
 "nbformat_minor": 2
}
