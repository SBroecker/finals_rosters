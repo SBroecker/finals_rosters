{
 "cells": [
  {
   "cell_type": "code",
   "execution_count": 7,
   "metadata": {},
   "outputs": [],
   "source": [
    "from plotnine import *\n",
    "import polars as pl"
   ]
  },
  {
   "cell_type": "code",
   "execution_count": 8,
   "metadata": {},
   "outputs": [],
   "source": [
    "df = pl.read_csv(\"teams_per_year.csv\")"
   ]
  },
  {
   "cell_type": "code",
   "execution_count": 9,
   "metadata": {},
   "outputs": [
    {
     "data": {
      "text/html": [
       "<div><style>\n",
       ".dataframe > thead > tr,\n",
       ".dataframe > tbody > tr {\n",
       "  text-align: right;\n",
       "  white-space: pre-wrap;\n",
       "}\n",
       "</style>\n",
       "<small>shape: (77, 31)</small><table border=\"1\" class=\"dataframe\"><thead><tr><th>Year</th><th>NYK</th><th>ATL</th><th>LAL</th><th>SAC</th><th>DET</th><th>GSW</th><th>PHI</th><th>BOS</th><th>WAS</th><th>HOU</th><th>OKC</th><th>MIL</th><th>PHO</th><th>CHI</th><th>CLE</th><th>LAC</th><th>POR</th><th>UTA</th><th>NJN</th><th>SAS</th><th>IND</th><th>DEN</th><th>DAL</th><th>CHA</th><th>ORL</th><th>MIA</th><th>MIN</th><th>TOR</th><th>MEM</th><th>NOH</th></tr><tr><td>str</td><td>i64</td><td>i64</td><td>i64</td><td>i64</td><td>i64</td><td>i64</td><td>i64</td><td>i64</td><td>i64</td><td>i64</td><td>i64</td><td>i64</td><td>i64</td><td>i64</td><td>i64</td><td>i64</td><td>i64</td><td>i64</td><td>i64</td><td>i64</td><td>i64</td><td>i64</td><td>i64</td><td>i64</td><td>i64</td><td>i64</td><td>i64</td><td>i64</td><td>i64</td><td>i64</td></tr></thead><tbody><tr><td>&quot;2025&quot;</td><td>1</td><td>0</td><td>1</td><td>1</td><td>0</td><td>0</td><td>1</td><td>1</td><td>1</td><td>1</td><td>1</td><td>0</td><td>0</td><td>1</td><td>1</td><td>1</td><td>0</td><td>1</td><td>1</td><td>0</td><td>1</td><td>1</td><td>1</td><td>0</td><td>0</td><td>1</td><td>1</td><td>1</td><td>1</td><td>1</td></tr><tr><td>&quot;2024&quot;</td><td>1</td><td>1</td><td>1</td><td>1</td><td>1</td><td>0</td><td>1</td><td>1</td><td>1</td><td>0</td><td>1</td><td>1</td><td>1</td><td>1</td><td>1</td><td>1</td><td>1</td><td>1</td><td>1</td><td>1</td><td>1</td><td>0</td><td>1</td><td>1</td><td>0</td><td>1</td><td>1</td><td>1</td><td>1</td><td>1</td></tr><tr><td>&quot;2023&quot;</td><td>1</td><td>1</td><td>1</td><td>1</td><td>1</td><td>1</td><td>1</td><td>1</td><td>1</td><td>1</td><td>1</td><td>1</td><td>1</td><td>1</td><td>1</td><td>1</td><td>1</td><td>1</td><td>1</td><td>1</td><td>1</td><td>1</td><td>1</td><td>1</td><td>1</td><td>1</td><td>1</td><td>1</td><td>1</td><td>1</td></tr><tr><td>&quot;2022&quot;</td><td>1</td><td>1</td><td>1</td><td>1</td><td>1</td><td>1</td><td>1</td><td>1</td><td>1</td><td>1</td><td>1</td><td>1</td><td>1</td><td>1</td><td>1</td><td>1</td><td>1</td><td>1</td><td>1</td><td>1</td><td>1</td><td>1</td><td>1</td><td>1</td><td>1</td><td>1</td><td>1</td><td>1</td><td>1</td><td>1</td></tr><tr><td>&quot;2021&quot;</td><td>1</td><td>1</td><td>1</td><td>1</td><td>1</td><td>1</td><td>1</td><td>1</td><td>1</td><td>1</td><td>1</td><td>1</td><td>1</td><td>1</td><td>1</td><td>1</td><td>1</td><td>1</td><td>1</td><td>1</td><td>1</td><td>1</td><td>1</td><td>1</td><td>1</td><td>1</td><td>1</td><td>1</td><td>1</td><td>1</td></tr><tr><td>&hellip;</td><td>&hellip;</td><td>&hellip;</td><td>&hellip;</td><td>&hellip;</td><td>&hellip;</td><td>&hellip;</td><td>&hellip;</td><td>&hellip;</td><td>&hellip;</td><td>&hellip;</td><td>&hellip;</td><td>&hellip;</td><td>&hellip;</td><td>&hellip;</td><td>&hellip;</td><td>&hellip;</td><td>&hellip;</td><td>&hellip;</td><td>&hellip;</td><td>&hellip;</td><td>&hellip;</td><td>&hellip;</td><td>&hellip;</td><td>&hellip;</td><td>&hellip;</td><td>&hellip;</td><td>&hellip;</td><td>&hellip;</td><td>&hellip;</td><td>&hellip;</td></tr><tr><td>&quot;1953&quot;</td><td>1</td><td>1</td><td>1</td><td>1</td><td>1</td><td>1</td><td>1</td><td>1</td><td>0</td><td>0</td><td>0</td><td>0</td><td>0</td><td>0</td><td>0</td><td>0</td><td>0</td><td>0</td><td>0</td><td>0</td><td>0</td><td>0</td><td>0</td><td>0</td><td>0</td><td>0</td><td>0</td><td>0</td><td>0</td><td>0</td></tr><tr><td>&quot;1952&quot;</td><td>1</td><td>1</td><td>1</td><td>1</td><td>1</td><td>1</td><td>1</td><td>1</td><td>0</td><td>0</td><td>0</td><td>0</td><td>0</td><td>0</td><td>0</td><td>0</td><td>0</td><td>0</td><td>0</td><td>0</td><td>0</td><td>0</td><td>0</td><td>0</td><td>0</td><td>0</td><td>0</td><td>0</td><td>0</td><td>0</td></tr><tr><td>&quot;1951&quot;</td><td>1</td><td>1</td><td>1</td><td>1</td><td>1</td><td>1</td><td>1</td><td>1</td><td>0</td><td>0</td><td>0</td><td>0</td><td>0</td><td>0</td><td>0</td><td>0</td><td>0</td><td>0</td><td>0</td><td>0</td><td>0</td><td>0</td><td>0</td><td>0</td><td>0</td><td>0</td><td>0</td><td>0</td><td>0</td><td>0</td></tr><tr><td>&quot;1950&quot;</td><td>1</td><td>1</td><td>1</td><td>1</td><td>1</td><td>1</td><td>1</td><td>1</td><td>0</td><td>0</td><td>0</td><td>0</td><td>0</td><td>0</td><td>0</td><td>0</td><td>0</td><td>0</td><td>0</td><td>0</td><td>0</td><td>0</td><td>0</td><td>0</td><td>0</td><td>0</td><td>0</td><td>0</td><td>0</td><td>0</td></tr><tr><td>&quot;Total&quot;</td><td>75</td><td>75</td><td>74</td><td>73</td><td>73</td><td>72</td><td>72</td><td>71</td><td>69</td><td>62</td><td>61</td><td>60</td><td>60</td><td>60</td><td>60</td><td>59</td><td>58</td><td>53</td><td>52</td><td>49</td><td>48</td><td>45</td><td>43</td><td>43</td><td>40</td><td>39</td><td>38</td><td>37</td><td>36</td><td>29</td></tr></tbody></table></div>"
      ],
      "text/plain": [
       "shape: (77, 31)\n",
       "┌───────┬─────┬─────┬─────┬───┬─────┬─────┬─────┬─────┐\n",
       "│ Year  ┆ NYK ┆ ATL ┆ LAL ┆ … ┆ MIN ┆ TOR ┆ MEM ┆ NOH │\n",
       "│ ---   ┆ --- ┆ --- ┆ --- ┆   ┆ --- ┆ --- ┆ --- ┆ --- │\n",
       "│ str   ┆ i64 ┆ i64 ┆ i64 ┆   ┆ i64 ┆ i64 ┆ i64 ┆ i64 │\n",
       "╞═══════╪═════╪═════╪═════╪═══╪═════╪═════╪═════╪═════╡\n",
       "│ 2025  ┆ 1   ┆ 0   ┆ 1   ┆ … ┆ 1   ┆ 1   ┆ 1   ┆ 1   │\n",
       "│ 2024  ┆ 1   ┆ 1   ┆ 1   ┆ … ┆ 1   ┆ 1   ┆ 1   ┆ 1   │\n",
       "│ 2023  ┆ 1   ┆ 1   ┆ 1   ┆ … ┆ 1   ┆ 1   ┆ 1   ┆ 1   │\n",
       "│ 2022  ┆ 1   ┆ 1   ┆ 1   ┆ … ┆ 1   ┆ 1   ┆ 1   ┆ 1   │\n",
       "│ 2021  ┆ 1   ┆ 1   ┆ 1   ┆ … ┆ 1   ┆ 1   ┆ 1   ┆ 1   │\n",
       "│ …     ┆ …   ┆ …   ┆ …   ┆ … ┆ …   ┆ …   ┆ …   ┆ …   │\n",
       "│ 1953  ┆ 1   ┆ 1   ┆ 1   ┆ … ┆ 0   ┆ 0   ┆ 0   ┆ 0   │\n",
       "│ 1952  ┆ 1   ┆ 1   ┆ 1   ┆ … ┆ 0   ┆ 0   ┆ 0   ┆ 0   │\n",
       "│ 1951  ┆ 1   ┆ 1   ┆ 1   ┆ … ┆ 0   ┆ 0   ┆ 0   ┆ 0   │\n",
       "│ 1950  ┆ 1   ┆ 1   ┆ 1   ┆ … ┆ 0   ┆ 0   ┆ 0   ┆ 0   │\n",
       "│ Total ┆ 75  ┆ 75  ┆ 74  ┆ … ┆ 38  ┆ 37  ┆ 36  ┆ 29  │\n",
       "└───────┴─────┴─────┴─────┴───┴─────┴─────┴─────┴─────┘"
      ]
     },
     "execution_count": 9,
     "metadata": {},
     "output_type": "execute_result"
    }
   ],
   "source": [
    "df"
   ]
  },
  {
   "cell_type": "code",
   "execution_count": 10,
   "metadata": {},
   "outputs": [],
   "source": [
    "# Plot the Total row for every column\n",
    "totals = df.filter(pl.col(\"Year\") == \"Total\").select(pl.col(pl.Int64)).unpivot()\n",
    "plot = (\n",
    "    ggplot(totals)\n",
    "    + aes(x=\"variable\", y=\"value\")\n",
    "    + geom_col()\n",
    "    + labs(title=\"Total Years per Team\", x=\"Team\", y=\"Number of Years\")\n",
    "    # Rotate x labels\n",
    "    + theme(axis_text_x=element_text(rotation=90, hjust=1))\n",
    "    # Sort by value\n",
    "    + scale_x_discrete(limits=totals.sort(\"value\", descending=True).select(\"variable\").to_series().to_list())\n",
    "    # Add value labels to each bar\n",
    "    + geom_text(aes(label=\"value\"), va=\"bottom\", size=8, format_string=\"{:.0f}\")\n",
    ")"
   ]
  },
  {
   "cell_type": "code",
   "execution_count": 11,
   "metadata": {},
   "outputs": [
    {
     "name": "stderr",
     "output_type": "stream",
     "text": [
      "/Users/stefanbroecker/miniforge3/envs/nba/lib/python3.13/site-packages/plotnine/ggplot.py:615: PlotnineWarning: Saving 10 x 6 in image.\n",
      "/Users/stefanbroecker/miniforge3/envs/nba/lib/python3.13/site-packages/plotnine/ggplot.py:616: PlotnineWarning: Filename: teams_per_year.png\n"
     ]
    }
   ],
   "source": [
    "plot\n",
    "\n",
    "# Save the plot\n",
    "plot.save(\"teams_per_year.png\", width=10, height=6, dpi=500)"
   ]
  },
  {
   "cell_type": "code",
   "execution_count": null,
   "metadata": {},
   "outputs": [
    {
     "name": "stderr",
     "output_type": "stream",
     "text": [
      "/Users/stefanbroecker/miniforge3/envs/nba/lib/python3.13/site-packages/plotnine/ggplot.py:615: PlotnineWarning: Saving 12 x 8 in image.\n",
      "/Users/stefanbroecker/miniforge3/envs/nba/lib/python3.13/site-packages/plotnine/ggplot.py:616: PlotnineWarning: Filename: heatmap.png\n"
     ]
    }
   ],
   "source": [
    "# Make a heatmap where the x-axis is the team, the y-axis is the year, and the color red or green for 0 and 1\n",
    "\n",
    "teams = df.columns[1:]  # Assuming the first column is 'year' and the rest are teams\n",
    "\n",
    "# Drop the totals row (the last row)\n",
    "df = df.filter(pl.col(\"Year\") != \"Total\")\n",
    "\n",
    "# Convert to long format for plotting\n",
    "df_long = df.unpivot(\n",
    "    index=['Year'],\n",
    "    on=teams,\n",
    "    variable_name='team',\n",
    "    value_name='value'\n",
    ")\n",
    "\n",
    "# Create the heatmap\n",
    "plot = (\n",
    "    ggplot(df_long, aes(x='team', y='Year', fill='factor(value)'))\n",
    "    # Add white borders between tiles\n",
    "    + geom_tile(color='white', size=0.5) \n",
    "    # Color the tiles\n",
    "    + scale_fill_manual(\n",
    "        values={0: 'red', 1: 'green'},\n",
    "        name='Had a Player',\n",
    "        labels=['No', 'Yes']\n",
    "    )\n",
    "    + scale_x_discrete(limits=teams) # Order teams by the total years\n",
    "    + theme_minimal() \n",
    "    # Add labels and title\n",
    "    + labs(\n",
    "        title='Teams in the Finals Heatmap',\n",
    "        x='Teams',\n",
    "        y='Years',\n",
    "        fill='Value'\n",
    "    ) \n",
    "    + theme(\n",
    "        axis_text_x=element_text(angle=45),  # Rotate x-axis labels\n",
    "        figure_size=(12, 8)\n",
    "    )\n",
    ")\n",
    "\n",
    "# Display the plot\n",
    "plot\n",
    "\n",
    "# Save the plot\n",
    "plot.save('heatmap.png', dpi=500)"
   ]
  },
  {
   "cell_type": "code",
   "execution_count": null,
   "metadata": {},
   "outputs": [],
   "source": []
  }
 ],
 "metadata": {
  "kernelspec": {
   "display_name": "nba",
   "language": "python",
   "name": "python3"
  },
  "language_info": {
   "codemirror_mode": {
    "name": "ipython",
    "version": 3
   },
   "file_extension": ".py",
   "mimetype": "text/x-python",
   "name": "python",
   "nbconvert_exporter": "python",
   "pygments_lexer": "ipython3",
   "version": "3.13.5"
  }
 },
 "nbformat": 4,
 "nbformat_minor": 2
}
